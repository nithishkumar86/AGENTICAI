{
 "cells": [
  {
   "cell_type": "markdown",
   "metadata": {},
   "source": [
    "langsmith is a uniform devops platform for developing collaborating,testing,deploying and monitoring llm applications"
   ]
  },
  {
   "cell_type": "code",
   "execution_count": 12,
   "metadata": {},
   "outputs": [
    {
     "data": {
      "text/plain": [
       "True"
      ]
     },
     "execution_count": 12,
     "metadata": {},
     "output_type": "execute_result"
    }
   ],
   "source": [
    "import os\n",
    "from dotenv import load_dotenv\n",
    "load_dotenv()"
   ]
  },
  {
   "cell_type": "code",
   "execution_count": 2,
   "metadata": {},
   "outputs": [],
   "source": [
    "os.environ[\"GROQ_API_KEY\"]=os.getenv('GROQ_API_KEY')\n",
    "os.environ[\"LANGSMITH_API_KEY\"]=os.getenv('LANGSMITH_API_KEY')\n",
    "#for tracing we use langsmith\n",
    "os.environ[\"LANGSMITH_TRACING_V2\"]=\"true\"\n",
    "os.environ[\"LANGSMITH_PROJECT\"]=os.getenv('LANGSMITH_PROJECT')\n"
   ]
  },
  {
   "cell_type": "code",
   "execution_count": 4,
   "metadata": {},
   "outputs": [],
   "source": [
    "from langchain_groq import ChatGroq\n",
    "from langchain_core.prompts import ChatPromptTemplate\n",
    "from langchain_core.output_parsers import StrOutputParser"
   ]
  },
  {
   "cell_type": "code",
   "execution_count": 5,
   "metadata": {},
   "outputs": [],
   "source": [
    "llm=ChatGroq(model='gemma2-9b-it')"
   ]
  },
  {
   "cell_type": "code",
   "execution_count": 7,
   "metadata": {},
   "outputs": [
    {
     "name": "stdout",
     "output_type": "stream",
     "text": [
      "input_variables=['question'] input_types={} partial_variables={} messages=[SystemMessagePromptTemplate(prompt=PromptTemplate(input_variables=[], input_types={}, partial_variables={}, template='As you are an Ai expert please me a answer based on the user question'), additional_kwargs={}), HumanMessagePromptTemplate(prompt=PromptTemplate(input_variables=['question'], input_types={}, partial_variables={}, template='{question}'), additional_kwargs={})]\n"
     ]
    }
   ],
   "source": [
    "prompt=ChatPromptTemplate.from_messages(\n",
    "    [\n",
    "        (\"system\",\"As you are an Ai expert please me a answer based on the user question\"),\n",
    "        (\"user\",\"{question}\")\n",
    "    ]\n",
    ")\n",
    "print(prompt)"
   ]
  },
  {
   "cell_type": "code",
   "execution_count": 8,
   "metadata": {},
   "outputs": [],
   "source": [
    "#LCEL-LangchainExpressionLanguage\n",
    "chain=prompt|llm|StrOutputParser()"
   ]
  },
  {
   "cell_type": "code",
   "execution_count": 9,
   "metadata": {},
   "outputs": [],
   "source": [
    "response=chain.invoke({\"question\":\"what is generative ai\"})"
   ]
  },
  {
   "cell_type": "code",
   "execution_count": 11,
   "metadata": {},
   "outputs": [
    {
     "name": "stdout",
     "output_type": "stream",
     "text": [
      "Let's break down Generative AI:\n",
      "\n",
      "**What is Generative AI?**\n",
      "\n",
      "Generative AI is a fascinating branch of artificial intelligence that focuses on creating new content.  Think of it as AI that can \"imagine\" and \"build\" things, rather than just analyzing existing data. \n",
      "\n",
      "**How does it work?**\n",
      "\n",
      "Generative AI models are trained on massive datasets of text, images, audio, code, or even 3D models. They learn the underlying patterns and structures within this data.  Then, they use this knowledge to generate new content that resembles the training data but is original.\n",
      "\n",
      "**Key Characteristics:**\n",
      "\n",
      "* **Creativity:** Generative AI can produce novel and unexpected outputs, pushing the boundaries of what's possible.\n",
      "* **Variety:** It can generate different types of content, from realistic images and music to creative writing and code.\n",
      "* **Customization:**  Often, you can guide the generation process by providing prompts or parameters, allowing you to tailor the output to your specific needs.\n",
      "\n",
      "**Examples of Generative AI in Action:**\n",
      "\n",
      "* **Text:**\n",
      "    * **Chatbots:** Like me! I can hold conversations, answer questions, and even generate different creative text formats,  poems, code, scripts, musical pieces, email, letters, etc.\n",
      "    * **Writing Assistants:** Help authors overcome writer's block, generate ideas, or improve the style of their writing.\n",
      "* **Images:**\n",
      "    * **Image Generation:** Create realistic or artistic images from text descriptions (think DALL-E 2, Midjourney).\n",
      "    * **Image Editing:** Enhance photos, remove objects, or change the style of an image.\n",
      "* **Audio:**\n",
      "    * **Music Composition:** Generate original music in various genres.\n",
      "    * **Voice Synthesis:** Create realistic synthetic voices for audiobooks, virtual assistants, or other applications.\n",
      "\n",
      "**The Future of Generative AI:**\n",
      "\n",
      "Generative AI is rapidly evolving, with new breakthroughs happening all the time. It has the potential to revolutionize many industries, from art and entertainment to healthcare and education.\n",
      "\n",
      "Let me know if you have any more questions about generative AI – I'm here to help!\n",
      "\n",
      "\n",
      "\n",
      "\n"
     ]
    }
   ],
   "source": [
    "print(response)"
   ]
  },
  {
   "cell_type": "code",
   "execution_count": null,
   "metadata": {},
   "outputs": [],
   "source": []
  },
  {
   "cell_type": "code",
   "execution_count": null,
   "metadata": {},
   "outputs": [],
   "source": []
  },
  {
   "cell_type": "code",
   "execution_count": null,
   "metadata": {},
   "outputs": [],
   "source": []
  },
  {
   "cell_type": "code",
   "execution_count": null,
   "metadata": {},
   "outputs": [],
   "source": []
  }
 ],
 "metadata": {
  "kernelspec": {
   "display_name": "myvenv",
   "language": "python",
   "name": "python3"
  },
  "language_info": {
   "codemirror_mode": {
    "name": "ipython",
    "version": 3
   },
   "file_extension": ".py",
   "mimetype": "text/x-python",
   "name": "python",
   "nbconvert_exporter": "python",
   "pygments_lexer": "ipython3",
   "version": "3.12.2"
  }
 },
 "nbformat": 4,
 "nbformat_minor": 2
}
