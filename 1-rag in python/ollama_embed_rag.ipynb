{
 "cells": [
  {
   "cell_type": "code",
   "execution_count": 1,
   "metadata": {},
   "outputs": [
    {
     "data": {
      "text/plain": [
       "True"
      ]
     },
     "execution_count": 1,
     "metadata": {},
     "output_type": "execute_result"
    }
   ],
   "source": [
    "import os\n",
    "from dotenv import load_dotenv\n",
    "load_dotenv()"
   ]
  },
  {
   "cell_type": "code",
   "execution_count": 4,
   "metadata": {},
   "outputs": [],
   "source": [
    "os.environ[\"GROQ_API_KEY\"]=os.getenv(\"GROQ_API_KEY\")"
   ]
  },
  {
   "cell_type": "code",
   "execution_count": 11,
   "metadata": {},
   "outputs": [],
   "source": [
    "from langchain_groq import ChatGroq\n",
    "from langchain_community.embeddings import OllamaEmbeddings\n",
    "from langchain_community.document_loaders import TextLoader\n",
    "from langchain_text_splitters import RecursiveCharacterTextSplitter\n",
    "from langchain_community.vectorstores import FAISS\n",
    "from langchain_core.prompts import ChatPromptTemplate\n",
    "from langchain.chains.combine_documents import create_stuff_documents_chain\n",
    "from langchain.chains import create_retrieval_chain"
   ]
  },
  {
   "cell_type": "code",
   "execution_count": 22,
   "metadata": {},
   "outputs": [
    {
     "name": "stderr",
     "output_type": "stream",
     "text": [
      "C:\\Users\\user\\AppData\\Local\\Temp\\ipykernel_10616\\1174451878.py:1: LangChainDeprecationWarning: The class `OllamaEmbeddings` was deprecated in LangChain 0.3.1 and will be removed in 1.0.0. An updated version of the class exists in the :class:`~langchain-ollama package and should be used instead. To use it run `pip install -U :class:`~langchain-ollama` and import as `from :class:`~langchain_ollama import OllamaEmbeddings``.\n",
      "  embedding=OllamaEmbeddings(model=\"mxbai-embed-large\")\n"
     ]
    }
   ],
   "source": [
    "embedding=OllamaEmbeddings(model=\"mxbai-embed-large\")"
   ]
  },
  {
   "cell_type": "code",
   "execution_count": 5,
   "metadata": {},
   "outputs": [],
   "source": [
    "llm=ChatGroq(model=\"gemma2-9b-it\")"
   ]
  },
  {
   "cell_type": "code",
   "execution_count": 6,
   "metadata": {},
   "outputs": [
    {
     "data": {
      "text/plain": [
       "AIMessage(content='Hello! 👋\\n\\nHow can I help you today? 😄\\n', additional_kwargs={}, response_metadata={'token_usage': {'completion_tokens': 15, 'prompt_tokens': 10, 'total_tokens': 25, 'completion_time': 0.027272727, 'prompt_time': 3.1e-07, 'queue_time': 0.021000005, 'total_time': 0.027273037}, 'model_name': 'gemma2-9b-it', 'system_fingerprint': 'fp_10c08bf97d', 'finish_reason': 'stop', 'logprobs': None}, id='run-1e56ceb0-42d3-464a-917b-63e3b0eac17a-0', usage_metadata={'input_tokens': 10, 'output_tokens': 15, 'total_tokens': 25})"
      ]
     },
     "execution_count": 6,
     "metadata": {},
     "output_type": "execute_result"
    }
   ],
   "source": [
    "llm.invoke(\"hello\")"
   ]
  },
  {
   "cell_type": "code",
   "execution_count": 13,
   "metadata": {},
   "outputs": [
    {
     "data": {
      "text/plain": [
       "[Document(metadata={'source': 'sample.txt'}, page_content='The definition of Deep learning is that it is the branch of machine learning that is based on artificial neural network architecture. An artificial neural network or ANN uses layers of interconnected nodes called neurons that work together to process and learn from the input data.\\n\\nIn a fully connected Deep neural network, there is an input layer and one or more hidden layers connected one after the other. Each neuron receives input from the previous layer neurons or the input layer. The output of one neuron becomes the input to other neurons in the next layer of the network, and this process continues until the final layer produces the output of the network. The layers of the neural network transform the input data through a series of nonlinear transformations, allowing the network to learn complex representations of the input data.\\n\\nDeep Learning - Geeksforgeeks\\nScope of Deep Learning\\n\\nToday Deep learning AI has become one of the most popular and visible areas of machine learning, due to its success in a variety of applications, such as computer vision, natural language processing, and Reinforcement learning.\\n\\nDeep learning AI can be used for supervised, unsupervised as well as reinforcement machine learning. it uses a variety of ways to process these.\\n\\nSupervised Machine Learning: Supervised machine learning is the machine learning technique in which the neural network learns to make predictions or classify data based on the labeled datasets. Here we input both input features along with the target variables. the neural network learns to make predictions based on the cost or error that comes from the difference between the predicted and the actual target, this process is known as backpropagation.  Deep learning algorithms like Convolutional neural networks, Recurrent neural networks are used for many supervised tasks like image classifications and recognization, sentiment analysis, language translations, etc.\\nUnsupervised Machine Learning: Unsupervised machine learning is the machine learning technique in which the neural network learns to discover the patterns or to cluster the dataset based on unlabeled datasets. Here there are no target variables. while the machine has to self-determined the hidden patterns or relationships within the datasets. Deep learning algorithms like autoencoders and generative models are used for unsupervised tasks like clustering, dimensionality reduction, and anomaly detection.\\nReinforcement  Machine Learning: Reinforcement  Machine Learning is the machine learning technique in which an agent learns to make decisions in an environment to maximize a reward signal. The agent interacts with the environment by taking action and observing the resulting rewards. Deep learning can be used to learn policies, or a set of actions, that maximizes the cumulative reward over time. Deep reinforcement learning algorithms like Deep Q networks and Deep Deterministic Policy Gradient (DDPG) are used to reinforce tasks like robotics and game playing etc.\\nArtificial neural networks\\nArtificial neural networks are built on the principles of the structure and operation of human neurons. It is also known as neural networks or neural nets. An artificial neural networkâ€™s input layer, which is the first layer, receives input from external sources and passes it on to the hidden layer, which is the second layer. Each neuron in the hidden layer gets information from the neurons in the previous layer, computes the weighted total, and then transfers it to the neurons in the next layer. These connections are weighted, which means that the impacts of the inputs from the preceding layer are more or less optimized by giving each input a distinct weight. These weights are then adjusted during the training process to enhance the performance of the model.\\n\\nFully Connected Artificial Neural Network - Geeksforgeeks\\nFully Connected Artificial Neural Network\\n\\nArtificial neurons, also known as units, are found in artificial neural networks. The whole Artificial Neural Network is composed of these artificial neurons, which are arranged in a series of layers. The complexities of neural networks will depend on the complexities of the underlying patterns in the dataset whether a layer has a dozen units or millions of units.  Commonly, Artificial Neural Network has an input layer, an output layer as well as hidden layers. The input layer receives data from the outside world which the neural network needs to analyze or learn about.\\n\\nIn a fully connected artificial neural network, there is an input layer and one or more hidden layers connected one after the other. Each neuron receives input from the previous layer neurons or the input layer. The output of one neuron becomes the input to other neurons in the next layer of the network, and this process continues until the final layer produces the output of the network. Then, after passing through one or more hidden layers, this data is transformed into valuable data for the output layer. Finally, the output layer provides an output in the form of an artificial neural networkâ€™s response to the data that comes in. \\n\\nUnits are linked to one another from one layer to another in the bulk of neural networks. Each of these links has weights that control how much one unit influences another. The neural network learns more and more about the data as it moves from one unit to another, ultimately producing an output from the output layer. \\n\\nDifference between Machine Learning and Deep Learning :\\nmachine learning and deep learning AI both are subsets of artificial intelligence but there are many similarities and differences between them.\\n\\nMachine Learning\\n\\nDeep Learning\\n\\nApply statistical algorithms to learn the hidden patterns and relationships in the dataset.\\tUses artificial neural network architecture to learn the hidden patterns and relationships in the dataset.\\nCan work on the smaller amount of dataset\\tRequires the larger volume of dataset compared to machine learning\\nBetter for the low-label task.\\tBetter for complex task like image processing, natural language processing, etc.\\nTakes less time to train the model.\\tTakes more time to train the model.\\nA model is created by relevant features which are manually extracted from images to detect an object in the image.\\tRelevant features are automatically extracted from images. It is an end-to-end learning process.\\nLess complex and easy to interpret the result.\\tMore complex, it works like the black box interpretations of the result are not easy.\\nIt can work on the CPU or requires less computing power as compared to deep learning.\\tIt requires a high-performance computer with GPU.\\nTypes of neural networks\\nDeep Learning models are able to automatically learn features from the data, which makes them well-suited for tasks such as image recognition, speech recognition, and natural language processing. The most widely used architectures in deep learning are feedforward neural networks, convolutional neural networks (CNNs), and recurrent neural networks (RNNs).\\n\\nFeedforward neural networks (FNNs) are the simplest type of ANN, with a linear flow of information through the network. FNNs have been widely used for tasks such as image classification, speech recognition, and natural language processing.\\nConvolutional Neural Networks (CNNs) are specifically for image and video recognition tasks. CNNs are able to automatically learn features from the images, which makes them well-suited for tasks such as image classification, object detection, and image segmentation.\\nRecurrent Neural Networks (RNNs) are a type of neural network that is able to process sequential data, such as time series and natural language. RNNs are able to maintain an internal state that captures information about the previous inputs, which makes them well-suited for tasks such as speech recognition, natural language processing, and language translation.\\nDeep Learning Applications:\\nThe main applications of deep learning AI can be divided into computer vision, natural language processing (NLP), and reinforcement learning. \\n\\n1. Computer vision\\nThe first Deep Learning applications is Computer vision. In computer vision, Deep learning AI models can enable machines to identify and understand visual data. Some of the main applications of deep learning in computer vision include:\\n\\nObject detection and recognition: Deep learning model can be used to identify and locate objects within images and videos, making it possible for machines to perform tasks such as self-driving cars, surveillance, and robotics. \\nImage classification: Deep learning models can be used to classify images into categories such as animals, plants, and buildings. This is used in applications such as medical imaging, quality control, and image retrieval. \\nImage segmentation: Deep learning models can be used for image segmentation into different regions, making it possible to identify specific features within images.\\n2. Natural language processing (NLP): \\nIn Deep learning applications, second application is NLP. NLP, the  Deep learning model can enable machines to understand and generate human language. Some of the main applications of deep learning in NLP include: \\n\\nAutomatic Text Generation â€“ Deep learning model can learn the corpus of text and new text like summaries, essays can be automatically generated using these trained models.\\nLanguage translation: Deep learning models can translate text from one language to another, making it possible to communicate with people from different linguistic backgrounds. \\nSentiment analysis: Deep learning models can analyze the sentiment of a piece of text, making it possible to determine whether the text is positive, negative, or neutral. This is used in applications such as customer service, social media monitoring, and political analysis. \\nSpeech recognition: Deep learning models can recognize and transcribe spoken words, making it possible to perform tasks such as speech-to-text conversion, voice search, and voice-controlled devices. \\n3. Reinforcement learning: \\nIn reinforcement learning, deep learning works as training agents to take action in an environment to maximize a reward. Some of the main applications of deep learning in reinforcement learning include: \\n\\nGame playing: Deep reinforcement learning models have been able to beat human experts at games such as Go, Chess, and Atari. \\nRobotics: Deep reinforcement learning models can be used to train robots to perform complex tasks such as grasping objects, navigation, and manipulation. \\nControl systems: Deep reinforcement learning models can be used to control complex systems such as power grids, traffic management, and supply chain optimization. \\nChallenges in Deep Learning\\nDeep learning has made significant advancements in various fields, but there are still some challenges that need to be addressed. Here are some of the main challenges in deep learning:\\n\\nData availability: It requires large amounts of data to learn from. For using deep learning itâ€™s a big concern to gather as much data for training.\\nComputational Resources: For training the deep learning model, it is computationally expensive because it requires specialized hardware like GPUs and TPUs.\\nTime-consuming: While working on sequential data depending on the computational resource it can take very large even in days or months. \\nInterpretability: Deep learning models are complex, it works like a black box. it is very difficult to interpret the result.\\nOverfitting: when the model is trained again and again, it becomes too specialized for the training data, leading to overfitting and poor performance on new data.\\nAdvantages of Deep Learning:\\nHigh accuracy: Deep Learning algorithms can achieve state-of-the-art performance in various tasks, such as image recognition and natural language processing.\\nAutomated feature engineering: Deep Learning algorithms can automatically discover and learn relevant features from data without the need for manual feature engineering.\\nScalability: Deep Learning models can scale to handle large and complex datasets, and can learn from massive amounts of data.\\nFlexibility: Deep Learning models can be applied to a wide range of tasks and can handle various types of data, such as images, text, and speech.\\nContinual improvement: Deep Learning models can continually improve their performance as more data becomes available.\\nDisadvantages of Deep Learning:\\nHigh computational requirements: Deep Learning AI models require large amounts of data and computational resources to train and optimize.\\nRequires large amounts of labeled data: Deep Learning models often require a large amount of labeled data for training, which can be expensive and time- consuming to acquire.\\nInterpretability: Deep Learning models can be challenging to interpret, making it difficult to understand how they make decisions.\\nOverfitting: Deep Learning models can sometimes overfit to the training data, resulting in poor performance on new and unseen data.\\nBlack-box nature: Deep Learning models are often treated as black boxes, making it difficult to understand how they work and how they arrived at their predictions.\\nConclusion\\nIn conclusion, the field of Deep Learning represents a transformative leap in artificial intelligence. By mimicking the human brainâ€™s neural networks, Deep Learning AI algorithms have revolutionized industries ranging from healthcare to finance, from autonomous vehicles to natural language processing. As we continue to push the boundaries of computational power and dataset sizes, the potential applications of Deep Learning are limitless. However, challenges such as interpretability and ethical considerations remain significant. Yet, with ongoing research and innovation, Deep Learning promises to reshape our future, ushering in a new era where machines can learn, adapt, and solve complex problems at a scale and speed previously unimaginable.\\n\\n\\nGet IBM Certification and a 90% fee refund on completing 90% course in 90 days! Take the Three 90 Challenge today.\\n\\nMaster Machine Learning, Data Science & AI with this complete program and also get a 90% refund. What more motivation do you need? Start the challenge right away!\\n\\nIntroduction to Multi-Task Learning(MTL) for Deep Learning\\nMulti-Task Learning (MTL) is a type of machine learning technique where a model is trained to perform multiple tasks simultaneously. In deep learning, MTL refers to training a neural network to perform multiple tasks by sharing some of the network\\'s layers and parameters across tasks. In MTL, the goal is to improve the generalization performance of\\n6 min read\\nDeep Belief Network (DBN) in Deep Learning\\nDiscover data creation with Deep Belief Networks (DBNs), cutting-edge generative models that make use of deep architecture. This article walks you through the concepts of DBNs, how they work, and how to implement them using practical coding. What is a Deep Belief Network?Deep Belief Networks (DBNs) are sophisticated artificial neural networks used\\n9 min read\\nDeep Boltzmann Machines (DBMs) in Deep Learning\\nIn this article, we will discuss the Deep Boltzmann Machines concepts and their applications in the real-world scenario. What are Deep Boltzmann Machines (DBMs)?Deep Boltzmann Machines (DBMs) are a kind of artificial neural network that belongs to the family of generative models. They are designed to discover intricate structures within large datas\\n10 min read\\nUnveiling the Power of Fastai: A Deep Dive into the Versatile Deep Learning Library\\nFastai is a powerful deep-learning library designed for researchers and practitioners. It offers high-level abstractions, PyTorch integration, and application-specific APIs, making it both adaptable and accessible for a wide range of deep learning tasks. In this article, we\\'ll delve into the intricacies of Fastai, a powerful deep-learning library.\\n9 min read\\nArtificial intelligence vs Machine Learning vs Deep Learning\\nNowadays many misconceptions are there related to the words machine learning, deep learning, and artificial intelligence (AI), most people think all these things are the same whenever they hear the word AI, they directly relate that word to machine learning or vice versa, well yes, these things are related to each other but not the same. Let\\'s see\\n4 min read\\nNeed of Data Structures and Algorithms for Deep Learning and Machine Learning\\nDeep Learning is a field that is heavily based on Mathematics and you need to have a good understanding of Data Structures and Algorithms to solve the mathematical problems optimally. Data Structures and Algorithms can be used to determine how a problem is represented internally or how the actual storage pattern works & what is happening under\\n6 min read\\nDifference Between Artificial Intelligence vs Machine Learning vs Deep Learning\\nArtificial Intelligence is basically the mechanism to incorporate human intelligence into machines through a set of rules(algorithm). AI is a combination of two words: \"Artificial\" meaning something made by humans or non-natural things and \"Intelligence\" meaning the ability to understand or think accordingly. Another definition could be that \"AI is\\n14 min read\\nDifference Between Machine Learning and Deep Learning\\nIf you are interested in building your career in the IT industry then you must have come across the term Data Science which is a booming field in terms of technologies and job availability as well. In this article, we will explore the Difference between Machine Learning and Deep Learning, two major fields within Data Science. Understanding these di\\n8 min read\\nAI vs. Machine Learning vs. Deep Learning vs. Neural Networks\\nArtificial Intelligence (AI), Machine Learning (ML), Deep Learning (DL), and Neural Networks (NN) are terms often used interchangeably. However, they represent different layers of complexity and specialization in the field of intelligent systems. This article will clarify the Difference between AI vs. machine learning vs. deep learning vs.\\n')]"
      ]
     },
     "execution_count": 13,
     "metadata": {},
     "output_type": "execute_result"
    }
   ],
   "source": [
    "loader=TextLoader('sample.txt')\n",
    "docs=loader.load()\n",
    "docs"
   ]
  },
  {
   "cell_type": "code",
   "execution_count": 17,
   "metadata": {},
   "outputs": [],
   "source": [
    "splitter=RecursiveCharacterTextSplitter(chunk_size=500,chunk_overlap=50)\n",
    "document=splitter.split_documents(docs)"
   ]
  },
  {
   "cell_type": "code",
   "execution_count": 21,
   "metadata": {},
   "outputs": [
    {
     "data": {
      "text/plain": [
       "Document(metadata={'source': 'sample.txt'}, page_content='The definition of Deep learning is that it is the branch of machine learning that is based on artificial neural network architecture. An artificial neural network or ANN uses layers of interconnected nodes called neurons that work together to process and learn from the input data.')"
      ]
     },
     "execution_count": 21,
     "metadata": {},
     "output_type": "execute_result"
    }
   ],
   "source": [
    "document[0]"
   ]
  },
  {
   "cell_type": "code",
   "execution_count": 23,
   "metadata": {},
   "outputs": [],
   "source": [
    "#vectorstor\n",
    "vectorstore=FAISS.from_documents(documents=document,embedding=embedding)"
   ]
  },
  {
   "cell_type": "code",
   "execution_count": 24,
   "metadata": {},
   "outputs": [
    {
     "name": "stdout",
     "output_type": "stream",
     "text": [
      "[Document(id='1e933c12-5d4e-4917-843e-15a42b9301bc', metadata={'source': 'sample.txt'}, page_content='The definition of Deep learning is that it is the branch of machine learning that is based on artificial neural network architecture. An artificial neural network or ANN uses layers of interconnected nodes called neurons that work together to process and learn from the input data.'), Document(id='623c0d49-9937-4b51-b46b-24250a01807e', metadata={'source': 'sample.txt'}, page_content='Deep Learning - Geeksforgeeks\\nScope of Deep Learning\\n\\nToday Deep learning AI has become one of the most popular and visible areas of machine learning, due to its success in a variety of applications, such as computer vision, natural language processing, and Reinforcement learning.\\n\\nDeep learning AI can be used for supervised, unsupervised as well as reinforcement machine learning. it uses a variety of ways to process these.'), Document(id='2d1c7521-e13e-4b3a-8b90-09312f489ce2', metadata={'source': 'sample.txt'}, page_content='Object detection and recognition: Deep learning model can be used to identify and locate objects within images and videos, making it possible for machines to perform tasks such as self-driving cars, surveillance, and robotics. \\nImage classification: Deep learning models can be used to classify images into categories such as animals, plants, and buildings. This is used in applications such as medical imaging, quality control, and image retrieval.'), Document(id='f76f56df-f4ce-4197-82f5-31a3ad36a5ac', metadata={'source': 'sample.txt'}, page_content='Deep Belief Network (DBN) in Deep Learning\\nDiscover data creation with Deep Belief Networks (DBNs), cutting-edge generative models that make use of deep architecture. This article walks you through the concepts of DBNs, how they work, and how to implement them using practical coding. What is a Deep Belief Network?Deep Belief Networks (DBNs) are sophisticated artificial neural networks used\\n9 min read\\nDeep Boltzmann Machines (DBMs) in Deep Learning')]\n"
     ]
    }
   ],
   "source": [
    "#similiarity search\n",
    "\n",
    "question=\"what is deep learning\"\n",
    "result=vectorstore.similarity_search(question)\n",
    "print(result)"
   ]
  },
  {
   "cell_type": "code",
   "execution_count": 26,
   "metadata": {},
   "outputs": [],
   "source": [
    "prompt=ChatPromptTemplate.from_template(\n",
    "    \"\"\"\n",
    "        Answer the following question based on the given context:\n",
    "        <context>\n",
    "        {context}\n",
    "        <context>      \n",
    "    \"\"\"\n",
    ")                                        "
   ]
  },
  {
   "cell_type": "code",
   "execution_count": 28,
   "metadata": {},
   "outputs": [],
   "source": [
    "#converting vector database to retriever it act as a interface \n",
    "retriever=vectorstore.as_retriever() "
   ]
  },
  {
   "cell_type": "code",
   "execution_count": 30,
   "metadata": {},
   "outputs": [
    {
     "data": {
      "text/plain": [
       "[Document(id='1e933c12-5d4e-4917-843e-15a42b9301bc', metadata={'source': 'sample.txt'}, page_content='The definition of Deep learning is that it is the branch of machine learning that is based on artificial neural network architecture. An artificial neural network or ANN uses layers of interconnected nodes called neurons that work together to process and learn from the input data.'),\n",
       " Document(id='623c0d49-9937-4b51-b46b-24250a01807e', metadata={'source': 'sample.txt'}, page_content='Deep Learning - Geeksforgeeks\\nScope of Deep Learning\\n\\nToday Deep learning AI has become one of the most popular and visible areas of machine learning, due to its success in a variety of applications, such as computer vision, natural language processing, and Reinforcement learning.\\n\\nDeep learning AI can be used for supervised, unsupervised as well as reinforcement machine learning. it uses a variety of ways to process these.'),\n",
       " Document(id='2d1c7521-e13e-4b3a-8b90-09312f489ce2', metadata={'source': 'sample.txt'}, page_content='Object detection and recognition: Deep learning model can be used to identify and locate objects within images and videos, making it possible for machines to perform tasks such as self-driving cars, surveillance, and robotics. \\nImage classification: Deep learning models can be used to classify images into categories such as animals, plants, and buildings. This is used in applications such as medical imaging, quality control, and image retrieval.'),\n",
       " Document(id='f76f56df-f4ce-4197-82f5-31a3ad36a5ac', metadata={'source': 'sample.txt'}, page_content='Deep Belief Network (DBN) in Deep Learning\\nDiscover data creation with Deep Belief Networks (DBNs), cutting-edge generative models that make use of deep architecture. This article walks you through the concepts of DBNs, how they work, and how to implement them using practical coding. What is a Deep Belief Network?Deep Belief Networks (DBNs) are sophisticated artificial neural networks used\\n9 min read\\nDeep Boltzmann Machines (DBMs) in Deep Learning')]"
      ]
     },
     "execution_count": 30,
     "metadata": {},
     "output_type": "execute_result"
    }
   ],
   "source": [
    "retriever.get_relevant_documents(\"what is deep learning\")"
   ]
  },
  {
   "cell_type": "code",
   "execution_count": 32,
   "metadata": {},
   "outputs": [
    {
     "name": "stdout",
     "output_type": "stream",
     "text": [
      "bound=RunnableBinding(bound=RunnableAssign(mapper={\n",
      "  context: RunnableLambda(format_docs)\n",
      "}), kwargs={}, config={'run_name': 'format_inputs'}, config_factories=[])\n",
      "| ChatPromptTemplate(input_variables=['context'], input_types={}, partial_variables={}, messages=[HumanMessagePromptTemplate(prompt=PromptTemplate(input_variables=['context'], input_types={}, partial_variables={}, template='\\n        Answer the following question based on the given context:\\n        <context>\\n        {context}\\n        <context>      \\n    '), additional_kwargs={})])\n",
      "| ChatGroq(client=<groq.resources.chat.completions.Completions object at 0x0000022149E8C140>, async_client=<groq.resources.chat.completions.AsyncCompletions object at 0x0000022149E8CC50>, model_name='gemma2-9b-it', model_kwargs={}, groq_api_key=SecretStr('**********'))\n",
      "| StrOutputParser() kwargs={} config={'run_name': 'stuff_documents_chain'} config_factories=[]\n"
     ]
    }
   ],
   "source": [
    "#it creates a chain for passing a list of documents to a model because whenever we are \n",
    "#retrieving the content the content will be multiple documents \n",
    "combine_docs=create_stuff_documents_chain(llm=llm,prompt=prompt)\n",
    "print(combine_docs)"
   ]
  },
  {
   "cell_type": "code",
   "execution_count": 34,
   "metadata": {},
   "outputs": [
    {
     "name": "stdout",
     "output_type": "stream",
     "text": [
      "bound=RunnableAssign(mapper={\n",
      "  context: RunnableBinding(bound=RunnableLambda(lambda x: x['input'])\n",
      "           | VectorStoreRetriever(tags=['FAISS', 'OllamaEmbeddings'], vectorstore=<langchain_community.vectorstores.faiss.FAISS object at 0x000002214BDADA00>, search_kwargs={}), kwargs={}, config={'run_name': 'retrieve_documents'}, config_factories=[])\n",
      "})\n",
      "| RunnableAssign(mapper={\n",
      "    answer: RunnableBinding(bound=RunnableBinding(bound=RunnableAssign(mapper={\n",
      "              context: RunnableLambda(format_docs)\n",
      "            }), kwargs={}, config={'run_name': 'format_inputs'}, config_factories=[])\n",
      "            | ChatPromptTemplate(input_variables=['context'], input_types={}, partial_variables={}, messages=[HumanMessagePromptTemplate(prompt=PromptTemplate(input_variables=['context'], input_types={}, partial_variables={}, template='\\n        Answer the following question based on the given context:\\n        <context>\\n        {context}\\n        <context>      \\n    '), additional_kwargs={})])\n",
      "            | ChatGroq(client=<groq.resources.chat.completions.Completions object at 0x0000022149E8C140>, async_client=<groq.resources.chat.completions.AsyncCompletions object at 0x0000022149E8CC50>, model_name='gemma2-9b-it', model_kwargs={}, groq_api_key=SecretStr('**********'))\n",
      "            | StrOutputParser(), kwargs={}, config={'run_name': 'stuff_documents_chain'}, config_factories=[])\n",
      "  }) kwargs={} config={'run_name': 'retrieval_chain'} config_factories=[]\n"
     ]
    }
   ],
   "source": [
    "#it used to comine both stuff_document_chain and retrieval_chain\n",
    "chain=create_retrieval_chain(retriever,combine_docs)\n",
    "print(chain)"
   ]
  },
  {
   "cell_type": "code",
   "execution_count": 38,
   "metadata": {},
   "outputs": [],
   "source": [
    "result=chain.invoke({\"input\":\"what is deep learning\"})"
   ]
  },
  {
   "cell_type": "code",
   "execution_count": 39,
   "metadata": {},
   "outputs": [
    {
     "data": {
      "text/plain": [
       "'According to the provided text, Deep Learning can be used for **supervised, unsupervised, and reinforcement machine learning**. \\n\\n\\nLet me know if you have any other questions! \\n'"
      ]
     },
     "execution_count": 39,
     "metadata": {},
     "output_type": "execute_result"
    }
   ],
   "source": [
    "result['answer']"
   ]
  }
 ],
 "metadata": {
  "kernelspec": {
   "display_name": "myvenv",
   "language": "python",
   "name": "python3"
  },
  "language_info": {
   "codemirror_mode": {
    "name": "ipython",
    "version": 3
   },
   "file_extension": ".py",
   "mimetype": "text/x-python",
   "name": "python",
   "nbconvert_exporter": "python",
   "pygments_lexer": "ipython3",
   "version": "3.12.2"
  }
 },
 "nbformat": 4,
 "nbformat_minor": 2
}
